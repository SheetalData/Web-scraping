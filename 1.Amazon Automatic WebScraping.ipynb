{
 "cells": [
  {
   "cell_type": "code",
   "execution_count": null,
   "id": "c85001c8-395d-4b27-90c1-e705f4f41fbc",
   "metadata": {},
   "outputs": [
    {
     "name": "stdout",
     "output_type": "stream",
     "text": [
      "Collecting autoscraper\n",
      "  Downloading autoscraper-1.1.12-py3-none-any.whl (10 kB)\n",
      "Requirement already satisfied: lxml in c:\\users\\sheet\\anaconda3\\lib\\site-packages (from autoscraper) (4.6.3)\n",
      "Requirement already satisfied: requests in c:\\users\\sheet\\anaconda3\\lib\\site-packages (from autoscraper) (2.26.0)\n",
      "Collecting bs4\n",
      "  Downloading bs4-0.0.1.tar.gz (1.1 kB)\n",
      "Requirement already satisfied: beautifulsoup4 in c:\\users\\sheet\\anaconda3\\lib\\site-packages (from bs4->autoscraper) (4.10.0)\n",
      "Requirement already satisfied: soupsieve>1.2 in c:\\users\\sheet\\anaconda3\\lib\\site-packages (from beautifulsoup4->bs4->autoscraper) (2.2.1)\n",
      "Requirement already satisfied: idna<4,>=2.5 in c:\\users\\sheet\\anaconda3\\lib\\site-packages (from requests->autoscraper) (3.2)\n",
      "Requirement already satisfied: urllib3<1.27,>=1.21.1 in c:\\users\\sheet\\anaconda3\\lib\\site-packages (from requests->autoscraper) (1.26.7)\n",
      "Requirement already satisfied: charset-normalizer~=2.0.0 in c:\\users\\sheet\\anaconda3\\lib\\site-packages (from requests->autoscraper) (2.0.4)\n",
      "Requirement already satisfied: certifi>=2017.4.17 in c:\\users\\sheet\\anaconda3\\lib\\site-packages (from requests->autoscraper) (2021.10.8)\n",
      "Building wheels for collected packages: bs4\n",
      "  Building wheel for bs4 (setup.py): started\n",
      "  Building wheel for bs4 (setup.py): finished with status 'done'\n",
      "  Created wheel for bs4: filename=bs4-0.0.1-py3-none-any.whl size=1271 sha256=6c8f6a1244af7680049d4a05ab3964d65917122d74d1a88bb2a0ae2db458e04c\n",
      "  Stored in directory: c:\\users\\sheet\\appdata\\local\\pip\\cache\\wheels\\73\\2b\\cb\\099980278a0c9a3e57ff1a89875ec07bfa0b6fcbebb9a8cad3\n",
      "Successfully built bs4\n",
      "Installing collected packages: bs4, autoscraper\n",
      "Successfully installed autoscraper-1.1.12 bs4-0.0.1\n"
     ]
    }
   ],
   "source": [
    "!pip install autoscraper"
   ]
  },
  {
   "cell_type": "markdown",
   "id": "9de02be3-c82c-49c2-a2cf-7656893d6ba1",
   "metadata": {},
   "source": [
    "*After installing **Autoscraper**...*"
   ]
  },
  {
   "cell_type": "markdown",
   "id": "8e218e32-11a8-40ec-8fd7-8d881703f2d8",
   "metadata": {},
   "source": [
    "**fetch all related products in a Amazon page:**"
   ]
  },
  {
   "cell_type": "code",
   "execution_count": null,
   "id": "8c49f918-4fce-4687-b3e5-e00d3b2cd7b4",
   "metadata": {},
   "outputs": [],
   "source": []
  },
  {
   "cell_type": "code",
   "execution_count": 2,
   "id": "66e1966e-466b-434d-9ac5-91c6e1cc412c",
   "metadata": {},
   "outputs": [],
   "source": [
    "from autoscraper import AutoScraper\n"
   ]
  },
  {
   "cell_type": "code",
   "execution_count": 5,
   "id": "e851a73b-3657-43f1-ad0f-261929408968",
   "metadata": {},
   "outputs": [],
   "source": [
    "amazon_url=\"https://www.amazon.in/s?k=iphones\"\n",
    "\n",
    "wanted_list=[\"₹56,990\",\"Apple iPhone 12 (64GB) - Green\"]\n"
   ]
  },
  {
   "cell_type": "code",
   "execution_count": 6,
   "id": "34425c82-31ff-4b6b-8ba7-c05f402e5f93",
   "metadata": {},
   "outputs": [
    {
     "name": "stdout",
     "output_type": "stream",
     "text": [
      "['₹56,990', '₹79,900', '₹42,999', '₹52,900', 'Apple iPhone 12 (64GB) - Green', 'Apple iPhone XR (128GB) - Coral']\n"
     ]
    }
   ],
   "source": [
    "scraper=AutoScraper()\n",
    "result=scraper.build(amazon_url,wanted_list)\n",
    "print(result)\n"
   ]
  },
  {
   "cell_type": "markdown",
   "id": "b49ed13e-caeb-4fb0-a2d7-8d9d8503b1c9",
   "metadata": {},
   "source": [
    "**By using the get_result_similar method, it will retrieve the data as the same exact order in the wanted list.**"
   ]
  },
  {
   "cell_type": "code",
   "execution_count": 7,
   "id": "692ad517-097f-4ed9-84df-2d2b868092c7",
   "metadata": {},
   "outputs": [
    {
     "data": {
      "text/plain": [
       "{'rule_zsfb': ['₹56,990', '₹79,900', '₹42,999', '₹52,900'],\n",
       " 'rule_n0rn': ['₹56,990', '₹79,900', '₹42,999', '₹52,900'],\n",
       " 'rule_n7lh': ['Apple iPhone 12 (64GB) - Green',\n",
       "  'Apple iPhone XR (128GB) - Coral']}"
      ]
     },
     "execution_count": 7,
     "metadata": {},
     "output_type": "execute_result"
    }
   ],
   "source": [
    "scraper.get_result_similar(amazon_url,grouped=True)\n"
   ]
  },
  {
   "cell_type": "code",
   "execution_count": 8,
   "id": "c4c11285-9753-48db-8a3c-b5731e8206b5",
   "metadata": {},
   "outputs": [],
   "source": [
    "scraper.set_rule_aliases({'rule_n7lh':'Title','rule_n0rn':'Price'})\n",
    "scraper.keep_rules(['rule_n7lh','rule_n0rn'])\n",
    "scraper.save('amazon-search')"
   ]
  },
  {
   "cell_type": "code",
   "execution_count": 9,
   "id": "3c1481eb-9f21-44cf-873a-bec31e457899",
   "metadata": {},
   "outputs": [],
   "source": [
    "results=scraper.get_result_similar('https://www.amazon.in/s?k=mi+phones+under+15000',group_by_alias=True)\n"
   ]
  },
  {
   "cell_type": "code",
   "execution_count": 10,
   "id": "5a051a62-ee42-4e67-b104-3d924acd374e",
   "metadata": {},
   "outputs": [
    {
     "data": {
      "text/plain": [
       "['₹11,499',\n",
       " '₹12,999',\n",
       " '₹12,999',\n",
       " '₹16,999',\n",
       " '₹10,499',\n",
       " '₹13,999',\n",
       " '₹19,989',\n",
       " '₹24,990']"
      ]
     },
     "execution_count": 10,
     "metadata": {},
     "output_type": "execute_result"
    }
   ],
   "source": [
    "results['Price']\n"
   ]
  },
  {
   "cell_type": "code",
   "execution_count": 11,
   "id": "e91cb5be-1575-4809-854c-ff2ea4f86b56",
   "metadata": {},
   "outputs": [
    {
     "data": {
      "text/plain": [
       "{'Price': ['₹11,499',\n",
       "  '₹12,999',\n",
       "  '₹12,999',\n",
       "  '₹16,999',\n",
       "  '₹10,499',\n",
       "  '₹13,999',\n",
       "  '₹19,989',\n",
       "  '₹24,990'],\n",
       " 'Title': ['Samsung Galaxy M12 (White,4GB RAM, 64GB Storage) 6000 mAh with 8nm Processor | True 48 MP Quad Camera | 90Hz Refresh Rate',\n",
       "  'Samsung Galaxy M32 (Black, 4GB RAM, 64GB Storage) 6 Months Free Screen Replacement for Prime',\n",
       "  '(Renewed) Realme C15 (Power Silver, 4GB RAM, 64GB Storage)',\n",
       "  'Vivo Y73 (Diamond Flare, 8GB RAM, 128GB Storage) with No Cost EMI/Additional Exchange Offers']}"
      ]
     },
     "execution_count": 11,
     "metadata": {},
     "output_type": "execute_result"
    }
   ],
   "source": [
    "results"
   ]
  },
  {
   "cell_type": "code",
   "execution_count": null,
   "id": "68990578-66ed-4560-98e8-8d73d2d8d848",
   "metadata": {},
   "outputs": [],
   "source": []
  },
  {
   "cell_type": "code",
   "execution_count": null,
   "id": "4808bdd0-6413-4277-9195-7bf43263d63a",
   "metadata": {},
   "outputs": [],
   "source": []
  }
 ],
 "metadata": {
  "kernelspec": {
   "display_name": "Python 3 (ipykernel)",
   "language": "python",
   "name": "python3"
  },
  "language_info": {
   "codemirror_mode": {
    "name": "ipython",
    "version": 3
   },
   "file_extension": ".py",
   "mimetype": "text/x-python",
   "name": "python",
   "nbconvert_exporter": "python",
   "pygments_lexer": "ipython3",
   "version": "3.9.7"
  }
 },
 "nbformat": 4,
 "nbformat_minor": 5
}
